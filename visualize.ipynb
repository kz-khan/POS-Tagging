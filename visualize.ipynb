{
 "cells": [
  {
   "cell_type": "code",
   "execution_count": 38,
   "metadata": {
    "collapsed": true
   },
   "outputs": [],
   "source": [
    "import pandas as pd\n",
    "import numpy as np\n",
    "import matplotlib.pyplot as plt"
   ]
  },
  {
   "cell_type": "code",
   "execution_count": 44,
   "metadata": {},
   "outputs": [],
   "source": [
    "df = pd.read_csv(\"final_data.txt\", sep = '\\t');\n",
    "#d1 = df['tag']\n",
    "#d1 = df.groupby('tag').count()\n",
    "#d1 = d1.iloc[:, [0,1]]\n",
    "#print (df)\n",
    "#d1.to_csv(\"visual.txt\", sep = '\\t')\n",
    "#d2 = df.groupby('label').count()\n",
    "#d2 = d2.iloc[:, [0,2]]\n",
    "#d2.to_csv(\"visual_l.txt\", sep = '\\t')\n",
    "#d1 = pd.read_csv(\"visual.txt\", sep = '\\t')\n",
    "#plt.figure()\n",
    "#d1.plot(x = 'tag', y = 'word',kind = 'bar')\n",
    "#df.plot()"
   ]
  },
  {
   "cell_type": "code",
   "execution_count": null,
   "metadata": {
    "collapsed": true
   },
   "outputs": [],
   "source": []
  },
  {
   "cell_type": "code",
   "execution_count": null,
   "metadata": {
    "collapsed": true
   },
   "outputs": [],
   "source": []
  }
 ],
 "metadata": {
  "kernelspec": {
   "display_name": "Python 3",
   "language": "python",
   "name": "python3"
  },
  "language_info": {
   "codemirror_mode": {
    "name": "ipython",
    "version": 3
   },
   "file_extension": ".py",
   "mimetype": "text/x-python",
   "name": "python",
   "nbconvert_exporter": "python",
   "pygments_lexer": "ipython3",
   "version": "3.6.1"
  }
 },
 "nbformat": 4,
 "nbformat_minor": 2
}
