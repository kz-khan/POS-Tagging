{
 "cells": [
  {
   "cell_type": "code",
   "execution_count": 2,
   "metadata": {
    "collapsed": true
   },
   "outputs": [],
   "source": [
    "import pandas as pd\n",
    "name = \"data_new.txt\"\n",
    "new = \"data_fet_proper.txt\""
   ]
  },
  {
   "cell_type": "code",
   "execution_count": 3,
   "metadata": {
    "collapsed": true
   },
   "outputs": [],
   "source": [
    "#f1 = open(name, \"r\")\n",
    "#2 = open(new, \"w\")\n",
    "#string = \"####\\t####\\t####\\t####\\t####\\t####\\t####\\t####\\n\"\n",
    "#for line in f1:\n",
    "#    num = 0\n",
    "#   for i in range(0,4):\n",
    "#        if line[i] == '#':\n",
    "#            print (\"lol\")\n",
    "#            num = num + 1\n",
    "#    if num == 3:\n",
    "#        print (\"here\")\n",
    "#        f2.write(string)\n",
    "#    else:\n",
    "#        f2.write(line)"
   ]
  },
  {
   "cell_type": "code",
   "execution_count": 4,
   "metadata": {},
   "outputs": [],
   "source": [
    "df = pd.read_csv(\"data_new.txt\", sep = \"\\t\")\n",
    "#print (df)\n",
    "#df.to_csv(\"loaded.txt\", sep = \" \")"
   ]
  },
  {
   "cell_type": "code",
   "execution_count": 5,
   "metadata": {},
   "outputs": [
    {
     "name": "stdout",
     "output_type": "stream",
     "text": [
      "21679\n"
     ]
    }
   ],
   "source": [
    "i = len(df.index)\n",
    "print (i)"
   ]
  },
  {
   "cell_type": "code",
   "execution_count": null,
   "metadata": {},
   "outputs": [],
   "source": [
    "for j in range(0, i+1):\n",
    "    print(df.iloc[j:j,1:2])\n",
    "    if all(df.iloc[j:j+1,1:2]) == \"####\":\n",
    "        print (\"here\" )\n",
    "        for k in range(0,8):\n",
    "            df.iloc[j:j][k:k] = \"####\""
   ]
  },
  {
   "cell_type": "code",
   "execution_count": null,
   "metadata": {
    "collapsed": true
   },
   "outputs": [],
   "source": [
    "print (df)"
   ]
  },
  {
   "cell_type": "code",
   "execution_count": null,
   "metadata": {
    "collapsed": true
   },
   "outputs": [],
   "source": []
  }
 ],
 "metadata": {
  "kernelspec": {
   "display_name": "Python 3",
   "language": "python",
   "name": "python3"
  },
  "language_info": {
   "codemirror_mode": {
    "name": "ipython",
    "version": 3
   },
   "file_extension": ".py",
   "mimetype": "text/x-python",
   "name": "python",
   "nbconvert_exporter": "python",
   "pygments_lexer": "ipython3",
   "version": "3.6.1"
  }
 },
 "nbformat": 4,
 "nbformat_minor": 2
}
